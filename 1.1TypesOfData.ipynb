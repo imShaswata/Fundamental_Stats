{
 "cells": [
  {
   "cell_type": "markdown",
   "id": "c7fd9eb9",
   "metadata": {},
   "source": [
    "In Statistics everything starts with Data. So to know the nature,quality and background of the data collected for  any statistical analysis is of immense importance.\n"
   ]
  },
  {
   "cell_type": "markdown",
   "id": "248ba178",
   "metadata": {},
   "source": [
    "Naturewise variable can be of the following types <br>\n",
    "    **1. Numeric Type** <br>\n",
    "    **2. Non-numeric Type**\n",
    "\n",
    "\n",
    "## Numeric Variable  :\n",
    "\n",
    "- **Definition:** Any variable that can be measured on numeric scale.\n",
    "- **Ex:** <br>\n",
    "    - Height, Weight, Salary ,temperature, Sales etc\n",
    "- **Scalewise** these type of variable can be  of two sub types :\n",
    "    - **Relative Scaled :** <br>\n",
    "        The variable  where the scale is relative. <br>\n",
    "        for ex: temperature. 0 degree Celcius and 0 degree Farenhiet are different and hence the scale is relative. <br>\n",
    "        Mean variance and other numerical measure are valid but not comparable across units for this type of variables.\n",
    "    - **Fixed Scaled :** <br> The variable where the scale is absolute and dependent on the scale being mesured. <br> For ex: 0 metre is always 0 Km also hence there is absolute zero here. <br> Mean variance and other measures are valid across units and change of scale is allowed for this type of variable.\n",
    "    \n",
    "- **Naturewise** numeric variable can be of two types: <br>\n",
    "    - **Continuous Variable:** <br> If there could be any value betwen two values of the variable. <br> Ex: Height, Salary. etc.\n",
    "    - **Discrete Variable:** <br> If the values of a variable can be of integer type. <br> Ex: No of accidents , Number of school drop outs etc.\n",
    "    \n",
    "## Non-numeric Type/ Categorical Data :\n",
    "\n",
    "- **Definition:** Any data that can't be measured on numeric scale.\n",
    "- **Ex:** <br>\n",
    "    - Level of Education , Religion belifes , Alert Level , Any flagging indicator\n",
    "\n",
    "- These type of data can be  of two sub types :\n",
    "    - **Nominal data:** <br> The type of categorical data that have no intrinsic natural order in it. <br> Ex: religion Beliefs ={Hindu, Muslim,Christian} can't be ordered in any way.\n",
    "    - **Ordinal data:** <br> The type of categorical variable that cvarries intrinsic natural order in it. <br> Ex: ploitica Beliefs ={Liberal, Moderate,Conservative} can surely be ordered in certain way."
   ]
  },
  {
   "cell_type": "markdown",
   "id": "ebd76859",
   "metadata": {},
   "source": [
    "Source wise data can be of two types:\n",
    "- **1. Primary data**\n",
    "- **2. Secondary data**\n",
    "\n",
    "## Primary data  :\n",
    "- If the data collected is from field and not from 3rd party\n",
    "- Ex: Survey data, interview data, case studies ,data collected from Google sheet, customer feedback, Review etc\n",
    "\n",
    "## Secondary data:\n",
    "- If the data collected from some alternative source and not directly.\n",
    "-  Ex: gattig kaggle data, data.gov.in and other like sorces etc"
   ]
  }
 ],
 "metadata": {
  "kernelspec": {
   "display_name": "Python 3",
   "language": "python",
   "name": "python3"
  },
  "language_info": {
   "codemirror_mode": {
    "name": "ipython",
    "version": 3
   },
   "file_extension": ".py",
   "mimetype": "text/x-python",
   "name": "python",
   "nbconvert_exporter": "python",
   "pygments_lexer": "ipython3",
   "version": "3.8.8"
  }
 },
 "nbformat": 4,
 "nbformat_minor": 5
}
