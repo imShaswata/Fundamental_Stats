{
 "cells": [
  {
   "cell_type": "markdown",
   "metadata": {},
   "source": [
    "## Random Variable :\n"
   ]
  },
  {
   "cell_type": "markdown",
   "metadata": {},
   "source": [
    "- ### **Definition:**\n",
    "A RV is a real valued **function f(w)** with domain **Sample Space(S)** of a **random experiment** and range in $(-\\infty, \\infty)$\n",
    "\n",
    "<br> **Note:** <br>\n",
    "    1. **Random Experiment:** <br>\n",
    "   An experiment satisfying 3 following conditions :\n",
    "       - Set of all possible outcome is already known before the experiment\n",
    "        - The outcome during a particular instance of the experiment is however not known\n",
    "        - The whole system can be repeated infinite times under the same set of conditions (leading to different outcomes among all possible outcomes)\n",
    "    Example: Toss a coin , Throw a dice , Count the # of accidents , Measure the weight of diabetic patients   \n",
    "    Toss a coin \n",
    "    - All possible outcomes {H,T}\n",
    "    - While You toss you dont know its gonna be H or T\n",
    "    - You can repeated the toss infinite no of times (under same condition) but  always outcome will be within {H,T}\n",
    "  \n",
    "  \n",
    "2. **Sample space**:\n",
    "    Collection of all possible events of random experiment\n",
    "    Ex:\n",
    "    - Toss a coin {H,T} \n",
    "    - Roll a dice {1,2,3,4,5,6}\n",
    "    - Roll two dice {1 1,1 2,1 3,...1 6,2 1,2 2,....6 6} \n",
    "    - Measure heights of a class {All positive real numbers}"
   ]
  },
  {
   "cell_type": "markdown",
   "metadata": {},
   "source": [
    "- ###  **Example** :\n",
    "\n",
    "    i) Observing the face (X) while tossing an unbiased coin (RE).<br>\n",
    "    Sample space (set of all possible outcomes) ={H,T}\n",
    "     Mathematically we can then write :     $ S = \\{w_1,w_2\\} $   where $ w_1 = H , w_2 = T $ . SO $X(w) = \\begin{cases}\n",
    " & \\text{1 if } x= H\\\\ \n",
    " & \\text{0 if } x= T \n",
    "\\end{cases}$ <br> In particular X is a Bernoulli RV \n",
    "\n",
    "    ii) Observing the face value(X) after rolling a fare dice(RE). <br>\n",
    "    Sample Space(S) = {1,2,3,4,5,6}\n",
    "    ... complete.."
   ]
  },
  {
   "cell_type": "markdown",
   "metadata": {},
   "source": [
    "   \n",
    "- ### **Type :** \n",
    "Random Varibale are of two types.\n",
    "    - **Discrete RV :**\n",
    "        Toss and coin and observe face, Roll a dice, Count printimg mistakes per page of a book etc.\n",
    "    - **Continious RV :**\n",
    "        Income of a group , Surviving time of Stage 3 Cancer patients etc  \n",
    "\n",
    "- ### **Functions of  RV:** \n",
    "\n",
    "    - **I. Distribution Function(DF):**  If X is a RV then the function $F_X(t)$ is defined for a real valued t by \n",
    "     <br> $F_X(t) = P(X \\leq t) = P [w: X(w) \\leq t]$ <br>\n",
    "         - **Note** :\n",
    "             - It means : You perform a  RE and observe the value for the RV X =t. Then F(X) gives you the probability of occurance of less than or equal to t (t being a valid range within the range of all possible values of the RV X)\n",
    "             - Example: <br>RE : Roll a fair dice. <br> RV : The face value of the dice(denote by X). <br> S = {1,2,..6} <br>Say you observe X=4 i.e. t=4 here . Now $F_X(4) = P [X \\leq 4 ]$ = P[X=1] +P[X=2] + P[X=3] +P[X=4] = 1/6 + 1/6+ 1/6+1/6 = 4/6 =0.66\n",
    "             - DF has two obvious properties : \n",
    "             <br> $F_X(- \\infty) =0 $ and $F_X(\\infty) =1 $  \n",
    "\n",
    "    - **II. Probability Mass Function(PMF):** If X is a **Discrete RV** with possible distinct values $t_1, t_2 ,...$ then the function $p_X(t)$ defined as \n",
    "    <br> $p_X(t) = \\begin{cases}\n",
    " & \\text{ $p_i$   if } t= t_i \\\\ \n",
    " & \\text{0    if } x= otherwise\n",
    "\\end{cases}$ is called probability masss function(pmf) of the rv X\n",
    "        - **Note** :\n",
    "            - It means : You perform a  RE and observe the value for the RV X =t. Then f(X) gives you the probability of occurance of t (t being a valid range within the range of all possible values of the RV X)\n",
    "    \n",
    "            - **Example:** <br> RE : Roll a fair dice. <br> RV : The face value of the dice(denote by X). <br> S = {1,2,..6} <br>Say you observe X=t. \n",
    "    Then pmf of the RV would be like\n",
    "   $p_X(t) = \\begin{cases}\n",
    " & \\text{ $\\frac{1}{6}$   if } t= 1,2,3,4,5,6 \\\\ \n",
    " & \\text{0    if } x= otherwise\n",
    "\\end{cases}$\n",
    "\n",
    "    - **III.Probability Density Function(PDF):**  The counterpart  of **Continous RV** as compared to PMF is defined as pdf. \n",
    "    <br>If a  RV  X has DF $F_X$ the that DF can be defined as $F_X(t) = P[X\\leq t] = \\int_{-\\infty}^{t} f(t) dt $ <br> where f(t) is called the p.d.f of the distribution\n",
    "\n",
    "\n",
    "\n",
    "\n",
    "-  ### **Moments of a RV:**\n",
    "    - The “moments” of a random variable (or of its distribution) are expected values of powers or related functions of the random variable.\n",
    "    - moments are of two types : A. Raw moment B. Central Moment\n",
    "    \n",
    "    - The rth raw moment of X is $ E(X^r) $\n",
    "        - If X is discrete then $E(X^r) = \\sum_{R_x}x^r P[X=x]$ <br>\n",
    "        - If X is continous then $E(X^r) = \\int_{\\infty}^{\\infty}x^r f(x) dx$\n",
    "        - If r=1 then we say it as Expectation of X (mean value of the RV in the sense) and defined by <br>\n",
    "        $E(X) = \\sum_{R_x}X P[X=x] $\n",
    "        \n",
    "    - The rth central moment of X is $ E[X- E(X)]^r $\n",
    "        - if r =2 then we call that as variance of X\n",
    "        - "
   ]
  },
  {
   "cell_type": "code",
   "execution_count": 1,
   "metadata": {},
   "outputs": [
    {
     "ename": "NameError",
     "evalue": "name 'getcwd' is not defined",
     "output_type": "error",
     "traceback": [
      "\u001b[1;31m---------------------------------------------------------------------------\u001b[0m",
      "\u001b[1;31mNameError\u001b[0m                                 Traceback (most recent call last)",
      "\u001b[1;32m<ipython-input-1-80c72379bb65>\u001b[0m in \u001b[0;36m<module>\u001b[1;34m\u001b[0m\n\u001b[1;32m----> 1\u001b[1;33m \u001b[0mgetcwd\u001b[0m\u001b[1;33m(\u001b[0m\u001b[1;33m)\u001b[0m\u001b[1;33m\u001b[0m\u001b[1;33m\u001b[0m\u001b[0m\n\u001b[0m",
      "\u001b[1;31mNameError\u001b[0m: name 'getcwd' is not defined"
     ]
    }
   ],
   "source": [
    "getcwd()"
   ]
  }
 ],
 "metadata": {
  "kernelspec": {
   "display_name": "Python 3",
   "language": "python",
   "name": "python3"
  },
  "language_info": {
   "codemirror_mode": {
    "name": "ipython",
    "version": 3
   },
   "file_extension": ".py",
   "mimetype": "text/x-python",
   "name": "python",
   "nbconvert_exporter": "python",
   "pygments_lexer": "ipython3",
   "version": "3.8.5"
  }
 },
 "nbformat": 4,
 "nbformat_minor": 4
}
