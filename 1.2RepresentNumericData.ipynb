{
 "cells": [
  {
   "cell_type": "markdown",
   "id": "4eef138f",
   "metadata": {},
   "source": [
    "# Univariate Data\n",
    "## The Central Tendency\n",
    "- A measure of central tendency of a dataset is a single value that attempts to describe the data by identifying the central position/ most typical or average value within that set of data.\n",
    "- We can think of it as the tendency of data to cluster around a middle value and finding that value.\n",
    "- There are mainly 3 types of such measures.<br>\n",
    "    - **Mean**\n",
    "    - **Median**\n",
    "    - **Mode**\n",
    "\n",
    "### Mean\n",
    "- The mean is the arithmetic average, and most familiar measure of CT. It is also called **Airthmatic Mean(AM)**\n",
    "- Mean is obtained by adding up all of the values and divide that by the number of observations the dataset.\n",
    "- Mathematically for a set of n observations $x_1 , x_2 .... x_n$ we find mean as <br>\n",
    " \n",
    " $\\Large \\bar x = \\sum_{i=1}^n x_i = \\frac{x_1+x_2+...x_n}{n}$ \n",
    "\n",
    "- **Note**\n",
    "    - Mean considers all observations in the dataset. Hence it is very sentitive to outliers(The values that are not in usual range of values of the dataset). Thus mean is not an ideal measure if outliers are present in the data.\n",
    "    - If Missing (NULL in sql ,NA in R, NaN in python) value is present in the data we should drop them before calculating mean.\n",
    "\n",
    "- There are a few alternative approaches to find mean.\n",
    "\n",
    "#### Harmonic Mean\n",
    "- For observations $x_1, x_2,.. x_n$ the harmonic mean (HM) is defined as $HM = \\frac{n}{ \\sum_{i=1}^n x_i } = \\frac{n}{\\frac{1}{x_1}+\\frac{1}{x_2}+...+\\frac{1}{x_n}}$ \n",
    "- It is often used in averaging things like rates (e.g., the average travel speed given a duration of several trips). \n",
    "        \n",
    "#### Geometric Mean\n",
    "- For observations $x_1, x_2,.. x_n$ the geometric mean (GM) is defined as <br>\n",
    "    $ GM = (\\prod_{i=1}^n x_i)^{1/n}  = (x_1 .x_2 ...x_n)^{1/n}$\n",
    "    \n",
    "- Applications of the geometric mean are most common in business and finance, where it is frequently used when dealing with percentages to calculate growth rates and returns on a portfolio of securities.\n",
    "\n",
    "#### **Trimmed Mean** \n",
    "- A trimmed mean is a method of averaging that removes a small designated percentage of the largest and smallest values before calculating the mean. After removing the specified outlier observations, the trimmed mean is found using a standard arithmetic averaging formula. \n",
    "- The use of a trimmed mean helps eliminate the influence of outliers or data points on the tails that may unfairly affect the traditional or arithmetic mean. The formula that excludes first and last p values of the dataset could be written as <br> $\\Large \\bar x_{Trim} = \\frac{\\sum_{i=p+1}^{n-p} x_i}{n-2p}$ \n",
    "\n",
    "        \n",
    "#### **Winsorized Mean**\n",
    "- Winsorized mean is obtained by replacing the smallest and largest values of the  dataset with the observations closest to them.\n",
    "        \n",
    "\n",
    "### Median\n",
    "- The median is an alternative approach of finding the central tendency of the dataset.\n",
    "- Median is the the midddle most observation half of the observations are less than or equal to it and half of the observations are greater than or equal to it. \n",
    "- There is no formula rather than a sorting algo that helps finding median of a dataset. You need to sort the data in increasing order and find the middle point of the sorted data as the median.\n",
    "- If there are n observations where :\n",
    "    - $n = 2m+1 , m=1,2,3...$ ie. odd  numbered observations. Then median is $x_{m} $ \n",
    "    - $n = 2m   , m=1,2,3...$ ie. even numbered observations. Then median is $\\frac{x_{m} + x_{m+1}}{2} $ \n",
    "- **Note**\n",
    "    - Median ,unlike mean doen't consider all observations in the dataset.Thus it is less sentitive to outliers and hence can be used as ideal measure of CT for highly skewed or outlier infected dataset like income etc.\n",
    "\n",
    "### Mode\n",
    "- The mode is the value that appears most frequently in a data set.\n",
    "- A set of data may have one mode, more than one mode, or no mode at all.\n",
    "- Mode is most useful as a measure of central tendency when examining categorical data, such as models of cars or flavors of soda or sizes of shoe for which a mathematical average median value based on ordering couldnt or  inappropriate to calculate."
   ]
  },
  {
   "cell_type": "markdown",
   "id": "18c0122d",
   "metadata": {},
   "source": [
    "### How to visualize CT ?\n",
    "- To visualize the CT of the data we need to have proper understanding of the dataset as well as the applicability of the metric that is going to be used.\n",
    "- To visualize CT ,most appropriate visualization methods are:\n",
    "    - Histogram \n",
    "    - BoxPlot\n",
    "- Approach should be:"
   ]
  },
  {
   "cell_type": "code",
   "execution_count": 2,
   "id": "379ad68a",
   "metadata": {
    "scrolled": true
   },
   "outputs": [
    {
     "data": {
      "image/png": "[encoded data removed]",
      "text/plain": [
       "<IPython.core.display.Image object>"
      ]
     },
     "execution_count": 2,
     "metadata": {
      "image/png": {
       "height": "75%",
       "width": "60%"
      }
     },
     "output_type": "execute_result"
    }
   ],
   "source": [
    "from IPython.display import Image\n",
    "from IPython.core.display import HTML\n",
    "path = \"C:/Users/Public/Projects/Fundamental_Stats/images\"\n",
    "Image(filename=path+\"/Picture1.PNG\",width='60%',height='75%')"
   ]
  },
  {
   "cell_type": "markdown",
   "id": "138d1b3a",
   "metadata": {},
   "source": [
    "## The Dispersion\n",
    "- The measure of dispersion of a dataset is the value that attempts to describe the variability, scatter, or spread of the data.\n",
    "- There are many approaches of understanding the amount of spread in the data. Such as\n",
    "    - **Range**\n",
    "    - **Interquartile Range (IQR)**\n",
    "    - **Standard Deviation (SD)**\n",
    "    - **Mean Absolute Deviation**\n",
    "    - **Median Absolute Deviation(MAD)**\n",
    "    - **Coefficient-of-Variation(CV)**\n",
    "\n",
    "\n",
    "### Range\n",
    "- Range is the difference between maximum and minimum value of the dataset. Conceptually it gives an idea of how far the observations of the dataset are spread apart, hance a candidate of disperion measure.\n",
    "- For a set of observations $x_1 , x_2 ... x_n $ range is defined as $x_{(n)} - x_{(1)}$\n",
    "\n",
    "### Inter Quartile Range(IQR)\n",
    "- The interquartile range (IQR) is the difference between 75th and 25th percentiles, or between 3rd and 1st quartile of the dataset.\n",
    "- Conceptually it is the trimmed alternative to range, trimming the 25% valuesboth upper and lower range.\n",
    "- For a set of observations $x_1 , x_2 ... x_n $ range is defined as $Q_3 - Q_1$ where Q3 and Q1 are the 3rd and 1st quartile of the dataset.\n",
    "\n",
    "### Standard Deviation(SD)\n",
    "- The Standard deviation is the most common  measure of dispersion which is based on most common measure of CT , i.e. the mean.\n",
    "- SD measures the average of deviation all the observations from its mean values , the deviation being measured as the square root of the sum of squared difference between each observation and the mean of the dataset.\n",
    "- Mathematically is is written as  : <br>\n",
    "$\\large \\sqrt{ \\frac{\\sum_{i=1}^n (x_i-\\bar x)^2}{n}}$ "
   ]
  },
  {
   "cell_type": "markdown",
   "id": "4cb4fc86",
   "metadata": {},
   "source": []
  }
 ],
 "metadata": {
  "hide_input": false,
  "kernelspec": {
   "display_name": "Python 3",
   "language": "python",
   "name": "python3"
  },
  "language_info": {
   "codemirror_mode": {
    "name": "ipython",
    "version": 3
   },
   "file_extension": ".py",
   "mimetype": "text/x-python",
   "name": "python",
   "nbconvert_exporter": "python",
   "pygments_lexer": "ipython3",
   "version": "3.8.8"
  }
 },
 "nbformat": 4,
 "nbformat_minor": 5
}
